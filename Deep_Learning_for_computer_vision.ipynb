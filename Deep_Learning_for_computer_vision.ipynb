{
  "nbformat": 4,
  "nbformat_minor": 0,
  "metadata": {
    "colab": {
      "provenance": [],
      "authorship_tag": "ABX9TyPMIUhKFOlFl0VodI8kQCjK",
      "include_colab_link": true
    },
    "kernelspec": {
      "name": "python3",
      "display_name": "Python 3"
    },
    "language_info": {
      "name": "python"
    }
  },
  "cells": [
    {
      "cell_type": "markdown",
      "metadata": {
        "id": "view-in-github",
        "colab_type": "text"
      },
      "source": [
        "<a href=\"https://colab.research.google.com/github/rameshver43/Amazon/blob/main/Deep_Learning_for_computer_vision.ipynb\" target=\"_parent\"><img src=\"https://colab.research.google.com/assets/colab-badge.svg\" alt=\"Open In Colab\"/></a>"
      ]
    },
    {
      "cell_type": "markdown",
      "source": [
        "Tensors: Are Multi Dimensional Arrays\n",
        "\n"
      ],
      "metadata": {
        "id": "-39WcsMzCpUR"
      }
    },
    {
      "cell_type": "markdown",
      "source": [
        "Array: is an ordered arrangement of numbers"
      ],
      "metadata": {
        "id": "Q0Ok7u_UC2Ij"
      }
    },
    {
      "cell_type": "markdown",
      "source": [
        "0-D single element=> ex 8"
      ],
      "metadata": {
        "id": "l3LMJQDqDGMY"
      }
    },
    {
      "cell_type": "markdown",
      "source": [
        "[2 0 -3]  1-D array (1-D tensor)  shape=(3,)"
      ],
      "metadata": {
        "id": "1eLL0D7wDM1N"
      }
    },
    {
      "cell_type": "markdown",
      "source": [
        "2-D Tensor  \n",
        "[1 2 0, 3 5 0]\n",
        "shape= (2,3)"
      ],
      "metadata": {
        "id": "R2MMvQAdDe_x"
      }
    },
    {
      "cell_type": "markdown",
      "source": [
        "3-D Tensor\n",
        "[[[1,2,3],[1,2,3]],[[1,2,3],[1,2,3]]]\n",
        "shape = (2,2,3)\n"
      ],
      "metadata": {
        "id": "ZxnlmKaJDnfw"
      }
    },
    {
      "cell_type": "code",
      "source": [
        "import tensorflow as tf"
      ],
      "metadata": {
        "id": "9L4_Q7K-EohR"
      },
      "execution_count": 3,
      "outputs": []
    },
    {
      "cell_type": "code",
      "source": [
        "tensor_zero_d = tf.constant(4)\n",
        "print(tensor_zero_d)"
      ],
      "metadata": {
        "colab": {
          "base_uri": "https://localhost:8080/"
        },
        "id": "x5r2PP0WEsxI",
        "outputId": "562e5d90-8124-49ea-f9f8-fc3954ab3969"
      },
      "execution_count": 6,
      "outputs": [
        {
          "output_type": "stream",
          "name": "stdout",
          "text": [
            "tf.Tensor(4, shape=(), dtype=int32)\n"
          ]
        }
      ]
    },
    {
      "cell_type": "code",
      "source": [
        "tensor_one_d = tf.constant([2,0,-3])\n",
        "print(tensor_one_d)"
      ],
      "metadata": {
        "colab": {
          "base_uri": "https://localhost:8080/"
        },
        "id": "JMUjJfRkE5Ig",
        "outputId": "c156fe67-0341-4389-b62f-4397d80aff94"
      },
      "execution_count": 8,
      "outputs": [
        {
          "output_type": "stream",
          "name": "stdout",
          "text": [
            "tf.Tensor([ 2  0 -3], shape=(3,), dtype=int32)\n"
          ]
        }
      ]
    },
    {
      "cell_type": "code",
      "source": [
        "tensor_two_d = tf.constant([\n",
        "    [1,2,0],\n",
        "     [3,5,-1],\n",
        "      [1,5,6],\n",
        "       [2,3,8]\n",
        "    ])\n",
        "\n",
        "print(tensor_two_d)\n"
      ],
      "metadata": {
        "colab": {
          "base_uri": "https://localhost:8080/"
        },
        "id": "9M_lB0h2FEuT",
        "outputId": "df02fa5b-8d9d-4778-d26d-1a99d3a71669"
      },
      "execution_count": 9,
      "outputs": [
        {
          "output_type": "stream",
          "name": "stdout",
          "text": [
            "tf.Tensor(\n",
            "[[ 1  2  0]\n",
            " [ 3  5 -1]\n",
            " [ 1  5  6]\n",
            " [ 2  3  8]], shape=(4, 3), dtype=int32)\n"
          ]
        }
      ]
    },
    {
      "cell_type": "code",
      "source": [
        "tensor_three_d = tf.constant([[\n",
        "    [1,2,0],\n",
        "     [3,5,-1],\n",
        "      [1,5,6],\n",
        "       [2,3,8]\n",
        "    ],[\n",
        "    [1,2,0],\n",
        "     [3,5,-1],\n",
        "      [1,5,6],\n",
        "       [2,3,8]\n",
        "    ]])\n",
        "\n",
        "print(tensor_three_d)"
      ],
      "metadata": {
        "colab": {
          "base_uri": "https://localhost:8080/"
        },
        "id": "3kavGy6bFf1T",
        "outputId": "d9876cf5-5efc-45cd-ff47-8123ed63fbb5"
      },
      "execution_count": 10,
      "outputs": [
        {
          "output_type": "stream",
          "name": "stdout",
          "text": [
            "tf.Tensor(\n",
            "[[[ 1  2  0]\n",
            "  [ 3  5 -1]\n",
            "  [ 1  5  6]\n",
            "  [ 2  3  8]]\n",
            "\n",
            " [[ 1  2  0]\n",
            "  [ 3  5 -1]\n",
            "  [ 1  5  6]\n",
            "  [ 2  3  8]]], shape=(2, 4, 3), dtype=int32)\n"
          ]
        }
      ]
    },
    {
      "cell_type": "code",
      "source": [
        "print(tensor_three_d.ndim)  # no of dim"
      ],
      "metadata": {
        "colab": {
          "base_uri": "https://localhost:8080/"
        },
        "id": "8Z3o7Nc3F6Gh",
        "outputId": "64868069-cdf1-44aa-ffdb-74fccb1ca463"
      },
      "execution_count": 12,
      "outputs": [
        {
          "output_type": "stream",
          "name": "stdout",
          "text": [
            "3\n"
          ]
        }
      ]
    },
    {
      "cell_type": "code",
      "source": [
        "print(tensor_three_d.shape)"
      ],
      "metadata": {
        "colab": {
          "base_uri": "https://localhost:8080/"
        },
        "id": "TZo_ISl0GHHH",
        "outputId": "7bed49bd-8ac1-4a71-d9cf-ae1acc6caa1a"
      },
      "execution_count": 13,
      "outputs": [
        {
          "output_type": "stream",
          "name": "stdout",
          "text": [
            "(2, 4, 3)\n"
          ]
        }
      ]
    },
    {
      "cell_type": "code",
      "source": [
        "tensor_four_d = tf.constant([[[\n",
        "    [1,2,0],\n",
        "     [3,5,-1],\n",
        "      [1,5,6],\n",
        "       [2,3,8]\n",
        "    ],[\n",
        "    [1,2,0],\n",
        "     [3,5,-1],\n",
        "      [1,5,6],\n",
        "       [2,3,8]\n",
        "    ]],[[\n",
        "    [1,2,0],\n",
        "     [3,5,-1],\n",
        "      [1,5,6],\n",
        "       [2,3,8]\n",
        "    ],[\n",
        "    [1,2,0],\n",
        "     [3,5,-1],\n",
        "      [1,5,6],\n",
        "       [2,3,8]\n",
        "    ]]])\n",
        "\n",
        "print(tensor_four_d)"
      ],
      "metadata": {
        "colab": {
          "base_uri": "https://localhost:8080/"
        },
        "id": "QdML_3zBGLet",
        "outputId": "cc408da0-7665-4ed4-9942-6527177d2c74"
      },
      "execution_count": 14,
      "outputs": [
        {
          "output_type": "stream",
          "name": "stdout",
          "text": [
            "tf.Tensor(\n",
            "[[[[ 1  2  0]\n",
            "   [ 3  5 -1]\n",
            "   [ 1  5  6]\n",
            "   [ 2  3  8]]\n",
            "\n",
            "  [[ 1  2  0]\n",
            "   [ 3  5 -1]\n",
            "   [ 1  5  6]\n",
            "   [ 2  3  8]]]\n",
            "\n",
            "\n",
            " [[[ 1  2  0]\n",
            "   [ 3  5 -1]\n",
            "   [ 1  5  6]\n",
            "   [ 2  3  8]]\n",
            "\n",
            "  [[ 1  2  0]\n",
            "   [ 3  5 -1]\n",
            "   [ 1  5  6]\n",
            "   [ 2  3  8]]]], shape=(2, 2, 4, 3), dtype=int32)\n"
          ]
        }
      ]
    },
    {
      "cell_type": "code",
      "source": [],
      "metadata": {
        "id": "HSWTEUNXGoVB"
      },
      "execution_count": null,
      "outputs": []
    }
  ]
}