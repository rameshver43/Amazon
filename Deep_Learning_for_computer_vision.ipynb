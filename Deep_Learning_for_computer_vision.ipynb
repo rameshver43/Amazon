{
  "nbformat": 4,
  "nbformat_minor": 0,
  "metadata": {
    "colab": {
      "provenance": [],
      "authorship_tag": "ABX9TyNcl3jTdzlI24eAfyfPUJtY",
      "include_colab_link": true
    },
    "kernelspec": {
      "name": "python3",
      "display_name": "Python 3"
    },
    "language_info": {
      "name": "python"
    }
  },
  "cells": [
    {
      "cell_type": "markdown",
      "metadata": {
        "id": "view-in-github",
        "colab_type": "text"
      },
      "source": [
        "<a href=\"https://colab.research.google.com/github/rameshver43/Amazon/blob/main/Deep_Learning_for_computer_vision.ipynb\" target=\"_parent\"><img src=\"https://colab.research.google.com/assets/colab-badge.svg\" alt=\"Open In Colab\"/></a>"
      ]
    },
    {
      "cell_type": "markdown",
      "source": [
        "Tensors: Are Multi Dimensional Arrays\n",
        "\n"
      ],
      "metadata": {
        "id": "-39WcsMzCpUR"
      }
    },
    {
      "cell_type": "markdown",
      "source": [
        "Array: is an ordered arrangement of numbers"
      ],
      "metadata": {
        "id": "Q0Ok7u_UC2Ij"
      }
    },
    {
      "cell_type": "markdown",
      "source": [
        "0-D single element=> ex 8"
      ],
      "metadata": {
        "id": "l3LMJQDqDGMY"
      }
    },
    {
      "cell_type": "markdown",
      "source": [
        "[2 0 -3]  1-D array (1-D tensor)  shape=(3,)"
      ],
      "metadata": {
        "id": "1eLL0D7wDM1N"
      }
    },
    {
      "cell_type": "markdown",
      "source": [
        "2-D Tensor  \n",
        "[1 2 0, 3 5 0]\n",
        "shape= (2,3)"
      ],
      "metadata": {
        "id": "R2MMvQAdDe_x"
      }
    },
    {
      "cell_type": "markdown",
      "source": [
        "3-D Tensor\n",
        "[[[1,2,3],[1,2,3]],[[1,2,3],[1,2,3]]]\n",
        "shape = (2,2,3)\n"
      ],
      "metadata": {
        "id": "ZxnlmKaJDnfw"
      }
    },
    {
      "cell_type": "code",
      "source": [
        "import tensorflow as tf"
      ],
      "metadata": {
        "id": "9L4_Q7K-EohR"
      },
      "execution_count": 3,
      "outputs": []
    },
    {
      "cell_type": "code",
      "source": [
        "tensor_zero_d = tf.constant(4)\n",
        "print(tensor_zero_d)"
      ],
      "metadata": {
        "colab": {
          "base_uri": "https://localhost:8080/"
        },
        "id": "x5r2PP0WEsxI",
        "outputId": "562e5d90-8124-49ea-f9f8-fc3954ab3969"
      },
      "execution_count": 6,
      "outputs": [
        {
          "output_type": "stream",
          "name": "stdout",
          "text": [
            "tf.Tensor(4, shape=(), dtype=int32)\n"
          ]
        }
      ]
    },
    {
      "cell_type": "code",
      "source": [
        "tensor_one_d = tf.constant([2,0,-3])\n",
        "print(tensor_one_d)"
      ],
      "metadata": {
        "colab": {
          "base_uri": "https://localhost:8080/"
        },
        "id": "JMUjJfRkE5Ig",
        "outputId": "c156fe67-0341-4389-b62f-4397d80aff94"
      },
      "execution_count": 8,
      "outputs": [
        {
          "output_type": "stream",
          "name": "stdout",
          "text": [
            "tf.Tensor([ 2  0 -3], shape=(3,), dtype=int32)\n"
          ]
        }
      ]
    },
    {
      "cell_type": "code",
      "source": [
        "tensor_two_d = tf.constant([\n",
        "    [1,2,0],\n",
        "     [3,5,-1],\n",
        "      [1,5,6],\n",
        "       [2,3,8]\n",
        "    ])\n",
        "\n",
        "print(tensor_two_d)\n"
      ],
      "metadata": {
        "colab": {
          "base_uri": "https://localhost:8080/"
        },
        "id": "9M_lB0h2FEuT",
        "outputId": "df02fa5b-8d9d-4778-d26d-1a99d3a71669"
      },
      "execution_count": 9,
      "outputs": [
        {
          "output_type": "stream",
          "name": "stdout",
          "text": [
            "tf.Tensor(\n",
            "[[ 1  2  0]\n",
            " [ 3  5 -1]\n",
            " [ 1  5  6]\n",
            " [ 2  3  8]], shape=(4, 3), dtype=int32)\n"
          ]
        }
      ]
    },
    {
      "cell_type": "code",
      "source": [
        "tensor_three_d = tf.constant([[\n",
        "    [1,2,0],\n",
        "     [3,5,-1],\n",
        "      [1,5,6],\n",
        "       [2,3,8]\n",
        "    ],[\n",
        "    [1,2,0],\n",
        "     [3,5,-1],\n",
        "      [1,5,6],\n",
        "       [2,3,8]\n",
        "    ]])\n",
        "\n",
        "print(tensor_three_d)"
      ],
      "metadata": {
        "colab": {
          "base_uri": "https://localhost:8080/"
        },
        "id": "3kavGy6bFf1T",
        "outputId": "d9876cf5-5efc-45cd-ff47-8123ed63fbb5"
      },
      "execution_count": 10,
      "outputs": [
        {
          "output_type": "stream",
          "name": "stdout",
          "text": [
            "tf.Tensor(\n",
            "[[[ 1  2  0]\n",
            "  [ 3  5 -1]\n",
            "  [ 1  5  6]\n",
            "  [ 2  3  8]]\n",
            "\n",
            " [[ 1  2  0]\n",
            "  [ 3  5 -1]\n",
            "  [ 1  5  6]\n",
            "  [ 2  3  8]]], shape=(2, 4, 3), dtype=int32)\n"
          ]
        }
      ]
    },
    {
      "cell_type": "code",
      "source": [
        "print(tensor_three_d.ndim)  # no of dim"
      ],
      "metadata": {
        "colab": {
          "base_uri": "https://localhost:8080/"
        },
        "id": "8Z3o7Nc3F6Gh",
        "outputId": "64868069-cdf1-44aa-ffdb-74fccb1ca463"
      },
      "execution_count": 12,
      "outputs": [
        {
          "output_type": "stream",
          "name": "stdout",
          "text": [
            "3\n"
          ]
        }
      ]
    },
    {
      "cell_type": "code",
      "source": [
        "print(tensor_three_d.shape)"
      ],
      "metadata": {
        "colab": {
          "base_uri": "https://localhost:8080/"
        },
        "id": "TZo_ISl0GHHH",
        "outputId": "7bed49bd-8ac1-4a71-d9cf-ae1acc6caa1a"
      },
      "execution_count": 13,
      "outputs": [
        {
          "output_type": "stream",
          "name": "stdout",
          "text": [
            "(2, 4, 3)\n"
          ]
        }
      ]
    },
    {
      "cell_type": "code",
      "source": [
        "tensor_four_d = tf.constant([[[\n",
        "    [1,2,0],\n",
        "     [3,5,-1],\n",
        "      [1,5,6],\n",
        "       [2,3,8]\n",
        "    ],[\n",
        "    [1,2,0],\n",
        "     [3,5,-1],\n",
        "      [1,5,6],\n",
        "       [2,3,8]\n",
        "    ]],[[\n",
        "    [1,2,0],\n",
        "     [3,5,-1],\n",
        "      [1,5,6],\n",
        "       [2,3,8]\n",
        "    ],[\n",
        "    [1,2,0],\n",
        "     [3,5,-1],\n",
        "      [1,5,6],\n",
        "       [2,3,8]\n",
        "    ]]])\n",
        "\n",
        "print(tensor_four_d)"
      ],
      "metadata": {
        "colab": {
          "base_uri": "https://localhost:8080/"
        },
        "id": "QdML_3zBGLet",
        "outputId": "cc408da0-7665-4ed4-9942-6527177d2c74"
      },
      "execution_count": 14,
      "outputs": [
        {
          "output_type": "stream",
          "name": "stdout",
          "text": [
            "tf.Tensor(\n",
            "[[[[ 1  2  0]\n",
            "   [ 3  5 -1]\n",
            "   [ 1  5  6]\n",
            "   [ 2  3  8]]\n",
            "\n",
            "  [[ 1  2  0]\n",
            "   [ 3  5 -1]\n",
            "   [ 1  5  6]\n",
            "   [ 2  3  8]]]\n",
            "\n",
            "\n",
            " [[[ 1  2  0]\n",
            "   [ 3  5 -1]\n",
            "   [ 1  5  6]\n",
            "   [ 2  3  8]]\n",
            "\n",
            "  [[ 1  2  0]\n",
            "   [ 3  5 -1]\n",
            "   [ 1  5  6]\n",
            "   [ 2  3  8]]]], shape=(2, 2, 4, 3), dtype=int32)\n"
          ]
        }
      ]
    },
    {
      "cell_type": "code",
      "source": [
        "tensor_one_d1 = tf.constant([2,0.4,-3,8,90],dtype=tf.float32)\n",
        "print(tensor_one_d1)\n",
        "casted_tensor_one_d = tf.cast(tensor_one_d1,dtype=tf.int16)\n",
        "print(casted_tensor_one_d)"
      ],
      "metadata": {
        "colab": {
          "base_uri": "https://localhost:8080/"
        },
        "id": "HSWTEUNXGoVB",
        "outputId": "62cdcdd0-9fa0-4f13-86d0-65ff339a22bd"
      },
      "execution_count": 20,
      "outputs": [
        {
          "output_type": "stream",
          "name": "stdout",
          "text": [
            "tf.Tensor([ 2.   0.4 -3.   8.  90. ], shape=(5,), dtype=float32)\n",
            "tf.Tensor([ 2  0 -3  8 90], shape=(5,), dtype=int16)\n"
          ]
        }
      ]
    },
    {
      "cell_type": "code",
      "source": [
        "tensor_string = tf.constant([\"Hello world\",\"Hi\"])\n",
        "print(tensor_string)"
      ],
      "metadata": {
        "colab": {
          "base_uri": "https://localhost:8080/"
        },
        "id": "BxjanNHNKz1U",
        "outputId": "c34cdb52-a9aa-4816-e05a-fb2628c52c3c"
      },
      "execution_count": 22,
      "outputs": [
        {
          "output_type": "stream",
          "name": "stdout",
          "text": [
            "tf.Tensor([b'Hello world' b'Hi'], shape=(2,), dtype=string)\n"
          ]
        }
      ]
    },
    {
      "cell_type": "code",
      "source": [
        "import numpy as np"
      ],
      "metadata": {
        "id": "SlA4jreiLDVf"
      },
      "execution_count": 23,
      "outputs": []
    },
    {
      "cell_type": "code",
      "source": [
        "np_array = np.array([1,2,4])\n",
        "print(np_array)"
      ],
      "metadata": {
        "colab": {
          "base_uri": "https://localhost:8080/"
        },
        "id": "7ORlbtpDLIgS",
        "outputId": "579c08b3-6215-4aef-83fe-24496eecd675"
      },
      "execution_count": 24,
      "outputs": [
        {
          "output_type": "stream",
          "name": "stdout",
          "text": [
            "[1 2 4]\n"
          ]
        }
      ]
    },
    {
      "cell_type": "code",
      "source": [
        "converted_tensor = tf.convert_to_tensor(np_array)\n",
        "print(converted_tensor)"
      ],
      "metadata": {
        "colab": {
          "base_uri": "https://localhost:8080/"
        },
        "id": "xHr0u4LFLOZh",
        "outputId": "1f5e9870-0386-4631-915e-e65284d41c3a"
      },
      "execution_count": 25,
      "outputs": [
        {
          "output_type": "stream",
          "name": "stdout",
          "text": [
            "tf.Tensor([1 2 4], shape=(3,), dtype=int64)\n"
          ]
        }
      ]
    },
    {
      "cell_type": "markdown",
      "source": [
        "https://www.tensorflow.org/api_docs/python/tf/"
      ],
      "metadata": {
        "id": "P7-rLG88Lk7r"
      }
    },
    {
      "cell_type": "code",
      "source": [
        "eye_tensor = tf.eye(\n",
        "    num_rows=5,\n",
        "    num_columns=None,\n",
        "    batch_shape=[2,4],\n",
        "    dtype=tf.dtypes.float32,\n",
        "    name=None\n",
        ")\n",
        "\n",
        "print(eye_tensor)  #identity metrix"
      ],
      "metadata": {
        "colab": {
          "base_uri": "https://localhost:8080/"
        },
        "id": "sSF-fk5ILsXQ",
        "outputId": "091d6e2d-153c-40f3-923e-32f73d163ec0"
      },
      "execution_count": 35,
      "outputs": [
        {
          "output_type": "stream",
          "name": "stdout",
          "text": [
            "tf.Tensor(\n",
            "[[[[1. 0. 0. 0. 0.]\n",
            "   [0. 1. 0. 0. 0.]\n",
            "   [0. 0. 1. 0. 0.]\n",
            "   [0. 0. 0. 1. 0.]\n",
            "   [0. 0. 0. 0. 1.]]\n",
            "\n",
            "  [[1. 0. 0. 0. 0.]\n",
            "   [0. 1. 0. 0. 0.]\n",
            "   [0. 0. 1. 0. 0.]\n",
            "   [0. 0. 0. 1. 0.]\n",
            "   [0. 0. 0. 0. 1.]]\n",
            "\n",
            "  [[1. 0. 0. 0. 0.]\n",
            "   [0. 1. 0. 0. 0.]\n",
            "   [0. 0. 1. 0. 0.]\n",
            "   [0. 0. 0. 1. 0.]\n",
            "   [0. 0. 0. 0. 1.]]\n",
            "\n",
            "  [[1. 0. 0. 0. 0.]\n",
            "   [0. 1. 0. 0. 0.]\n",
            "   [0. 0. 1. 0. 0.]\n",
            "   [0. 0. 0. 1. 0.]\n",
            "   [0. 0. 0. 0. 1.]]]\n",
            "\n",
            "\n",
            " [[[1. 0. 0. 0. 0.]\n",
            "   [0. 1. 0. 0. 0.]\n",
            "   [0. 0. 1. 0. 0.]\n",
            "   [0. 0. 0. 1. 0.]\n",
            "   [0. 0. 0. 0. 1.]]\n",
            "\n",
            "  [[1. 0. 0. 0. 0.]\n",
            "   [0. 1. 0. 0. 0.]\n",
            "   [0. 0. 1. 0. 0.]\n",
            "   [0. 0. 0. 1. 0.]\n",
            "   [0. 0. 0. 0. 1.]]\n",
            "\n",
            "  [[1. 0. 0. 0. 0.]\n",
            "   [0. 1. 0. 0. 0.]\n",
            "   [0. 0. 1. 0. 0.]\n",
            "   [0. 0. 0. 1. 0.]\n",
            "   [0. 0. 0. 0. 1.]]\n",
            "\n",
            "  [[1. 0. 0. 0. 0.]\n",
            "   [0. 1. 0. 0. 0.]\n",
            "   [0. 0. 1. 0. 0.]\n",
            "   [0. 0. 0. 1. 0.]\n",
            "   [0. 0. 0. 0. 1.]]]], shape=(2, 4, 5, 5), dtype=float32)\n"
          ]
        }
      ]
    },
    {
      "cell_type": "code",
      "source": [
        "fill_tensor = tf.fill([3, 4], 5,name=None)\n",
        "print(fill_tensor)"
      ],
      "metadata": {
        "colab": {
          "base_uri": "https://localhost:8080/"
        },
        "id": "rTjZpemUM-bS",
        "outputId": "97b7c494-ccf2-4d66-fd55-0b7ff584ea13"
      },
      "execution_count": 36,
      "outputs": [
        {
          "output_type": "stream",
          "name": "stdout",
          "text": [
            "tf.Tensor(\n",
            "[[5 5 5 5]\n",
            " [5 5 5 5]\n",
            " [5 5 5 5]], shape=(3, 4), dtype=int32)\n"
          ]
        }
      ]
    },
    {
      "cell_type": "code",
      "source": [
        "ones_tensor =tf.ones(\n",
        "    [3,5,3],\n",
        "    dtype=tf.dtypes.float32,\n",
        "    name=None\n",
        ")\n",
        "print(ones_tensor)"
      ],
      "metadata": {
        "colab": {
          "base_uri": "https://localhost:8080/"
        },
        "id": "I0B4oC6kNS6J",
        "outputId": "084cd5a1-b46f-4dac-cdef-04a81b3c3f97"
      },
      "execution_count": 42,
      "outputs": [
        {
          "output_type": "stream",
          "name": "stdout",
          "text": [
            "tf.Tensor(\n",
            "[[[1. 1. 1.]\n",
            "  [1. 1. 1.]\n",
            "  [1. 1. 1.]\n",
            "  [1. 1. 1.]\n",
            "  [1. 1. 1.]]\n",
            "\n",
            " [[1. 1. 1.]\n",
            "  [1. 1. 1.]\n",
            "  [1. 1. 1.]\n",
            "  [1. 1. 1.]\n",
            "  [1. 1. 1.]]\n",
            "\n",
            " [[1. 1. 1.]\n",
            "  [1. 1. 1.]\n",
            "  [1. 1. 1.]\n",
            "  [1. 1. 1.]\n",
            "  [1. 1. 1.]]], shape=(3, 5, 3), dtype=float32)\n"
          ]
        }
      ]
    },
    {
      "cell_type": "code",
      "source": [
        "tensor = tf.constant([[1, 2, 3], [4, 5, 6]])\n",
        "one_like_tensor =tf.ones_like(\n",
        "    tensor, dtype=None, name=None\n",
        ")\n",
        "print(one_like_tensor)"
      ],
      "metadata": {
        "colab": {
          "base_uri": "https://localhost:8080/"
        },
        "id": "0uF8JzmONlFs",
        "outputId": "9a6f4576-39fd-4643-e6ec-9c863b04ed4a"
      },
      "execution_count": 40,
      "outputs": [
        {
          "output_type": "stream",
          "name": "stdout",
          "text": [
            "tf.Tensor(\n",
            "[[1 1 1]\n",
            " [1 1 1]], shape=(2, 3), dtype=int32)\n"
          ]
        }
      ]
    },
    {
      "cell_type": "code",
      "source": [
        "zeros_tensor = tf.zeros(\n",
        "    [3,2],\n",
        "    dtype=tf.dtypes.float32,\n",
        "    name=None\n",
        ")\n",
        "print(zeros_tensor)"
      ],
      "metadata": {
        "colab": {
          "base_uri": "https://localhost:8080/"
        },
        "id": "jvhuG9DfN1Hn",
        "outputId": "d092be44-be31-42be-d7d3-6aab3e8a702e"
      },
      "execution_count": 43,
      "outputs": [
        {
          "output_type": "stream",
          "name": "stdout",
          "text": [
            "tf.Tensor(\n",
            "[[0. 0.]\n",
            " [0. 0.]\n",
            " [0. 0.]], shape=(3, 2), dtype=float32)\n"
          ]
        }
      ]
    },
    {
      "cell_type": "code",
      "source": [
        "zeros_tensor_shape=tf.shape(\n",
        "    zeros_tensor,\n",
        "    out_type=tf.dtypes.int32,\n",
        "    name=None\n",
        ")\n",
        "\n",
        "print(zeros_tensor_shape)"
      ],
      "metadata": {
        "colab": {
          "base_uri": "https://localhost:8080/"
        },
        "id": "7MrIp6WKOXrr",
        "outputId": "dc5da560-3d9d-499e-995f-f0b31635f7b8"
      },
      "execution_count": 47,
      "outputs": [
        {
          "output_type": "stream",
          "name": "stdout",
          "text": [
            "tf.Tensor([3 2], shape=(2,), dtype=int32)\n"
          ]
        }
      ]
    },
    {
      "cell_type": "code",
      "source": [
        "# shape of tensor 't' is [2, 2, 3]\n",
        "t = tf.constant([[[1, 1, 1], [2, 2, 2]], [[3, 3, 3], [4, 4, 4]]])\n",
        "tf.rank(t)  # 3"
      ],
      "metadata": {
        "colab": {
          "base_uri": "https://localhost:8080/"
        },
        "id": "YknI5Pg-PBJJ",
        "outputId": "70da58cf-c7a4-4cfe-b6a1-952938f2d40b"
      },
      "execution_count": 48,
      "outputs": [
        {
          "output_type": "execute_result",
          "data": {
            "text/plain": [
              "<tf.Tensor: shape=(), dtype=int32, numpy=3>"
            ]
          },
          "metadata": {},
          "execution_count": 48
        }
      ]
    },
    {
      "cell_type": "code",
      "source": [
        "t = tf.constant([[[1, 1, 1], [2, 2, 2]], [[3, 3, 3], [4, 4, 4]]])\n",
        "tf.size(t)\n",
        "#Returns a 0-D Tensor representing the number of elements in input of type out_type. Defaults to tf.int32."
      ],
      "metadata": {
        "colab": {
          "base_uri": "https://localhost:8080/"
        },
        "id": "ahwbrLQGPGHs",
        "outputId": "ee16a5b7-6465-4128-c3c3-4d390b219a32"
      },
      "execution_count": 50,
      "outputs": [
        {
          "output_type": "execute_result",
          "data": {
            "text/plain": [
              "<tf.Tensor: shape=(), dtype=int32, numpy=12>"
            ]
          },
          "metadata": {},
          "execution_count": 50
        }
      ]
    },
    {
      "cell_type": "code",
      "source": [
        "random_tensor = tf.random.normal(\n",
        "    [3,2],\n",
        "    mean=100.0,\n",
        "    stddev=1.0, \n",
        "    dtype=tf.dtypes.float32,\n",
        "    seed=None,\n",
        "    name=None\n",
        ")\n",
        "print(random_tensor)"
      ],
      "metadata": {
        "colab": {
          "base_uri": "https://localhost:8080/"
        },
        "id": "_iLBf7ZwPTHQ",
        "outputId": "94accc14-e94b-4d68-b81c-1e3f6d080b62"
      },
      "execution_count": 53,
      "outputs": [
        {
          "output_type": "stream",
          "name": "stdout",
          "text": [
            "tf.Tensor(\n",
            "[[101.45999   99.79752 ]\n",
            " [ 99.82898  100.11639 ]\n",
            " [ 98.010414  99.05498 ]], shape=(3, 2), dtype=float32)\n"
          ]
        }
      ]
    }
  ]
}